{
  "nbformat": 4,
  "nbformat_minor": 0,
  "metadata": {
    "colab": {
      "provenance": [],
      "authorship_tag": "ABX9TyMHrN2IoJGeg5F3a09MuHTQ",
      "include_colab_link": true
    },
    "kernelspec": {
      "name": "python3",
      "display_name": "Python 3"
    },
    "language_info": {
      "name": "python"
    }
  },
  "cells": [
    {
      "cell_type": "markdown",
      "metadata": {
        "id": "view-in-github",
        "colab_type": "text"
      },
      "source": [
        "<a href=\"https://colab.research.google.com/github/NHoangThanh/AI-assignment/blob/main/ArtificalNeuralNetwork_HoaLan.ipynb\" target=\"_parent\"><img src=\"https://colab.research.google.com/assets/colab-badge.svg\" alt=\"Open In Colab\"/></a>"
      ]
    },
    {
      "cell_type": "code",
      "source": [
        "from sklearn.linear_model import Perceptron\n",
        "from sklearn import datasets # thu muc chua du lieu co san tren sklearn\n",
        "from sklearn.model_selection import train_test_split\n",
        "from sklearn.metrics import accuracy_score\n",
        "from sklearn.preprocessing import StandardScaler #scale cho data de no deu \n",
        "\n",
        "\n",
        "iris = datasets.load_iris()\n",
        "#print('The data matrix:\\n',iris['data'])\n",
        "#print('The classification target:\\n',iris['target'])\n",
        "#print('The names of the dataset columns:\\n',iris['feature_names'])\n",
        "#print('The names of target classes:\\n',iris['target_names'])\n",
        "#print('The full description of the dataset:\\n',iris['DESCR'])\n",
        "#print('The path to the location of the data:\\n',iris['filename'])\n",
        "\n",
        "\n",
        "\n",
        "\n",
        "X = iris.data\n",
        "y = iris.target\n",
        "print(X[:5])\n",
        "print(y[:5])\n",
        "\n"
      ],
      "metadata": {
        "colab": {
          "base_uri": "https://localhost:8080/"
        },
        "id": "Y_t7gRlUP1OK",
        "outputId": "ab330a41-f50e-4cde-ce49-7d38ef6cd8dd"
      },
      "execution_count": 2,
      "outputs": [
        {
          "output_type": "stream",
          "name": "stdout",
          "text": [
            "[[5.1 3.5 1.4 0.2]\n",
            " [4.9 3.  1.4 0.2]\n",
            " [4.7 3.2 1.3 0.2]\n",
            " [4.6 3.1 1.5 0.2]\n",
            " [5.  3.6 1.4 0.2]]\n",
            "[0 0 0 0 0]\n"
          ]
        }
      ]
    },
    {
      "cell_type": "code",
      "source": [
        "X = iris.data\n",
        "y = iris.target\n",
        "#X_train, X_test, y_train, y_test = split_train_test(X,y,test_size = 0.3)\n",
        "X_train, X_test, y_train, y_test = train_test_split(X,y,test_size = 0.3)\n",
        "sc = StandardScaler()\n",
        "sc.fit(X_train)\n",
        "X_train_std = sc.transform(X_train)\n",
        "X_test_std = sc.transform(X_test)\n",
        "print(X_train_std[:5],X_train[:5])\n",
        "print(y[:5])"
      ],
      "metadata": {
        "colab": {
          "base_uri": "https://localhost:8080/"
        },
        "id": "oqXy2mjQ1z5o",
        "outputId": "86e82f5f-4dae-4b81-977f-d7c68df35118"
      },
      "execution_count": 5,
      "outputs": [
        {
          "output_type": "stream",
          "name": "stdout",
          "text": [
            "[[ 0.99677915 -0.19610696  0.69537699  0.61673609]\n",
            " [ 0.06125458 -0.19610696  0.2511818   0.3632829 ]\n",
            " [-1.22509169  0.76162469 -1.19245256 -1.28416282]\n",
            " [-0.52344827  0.76162469 -1.13692817 -1.28416282]\n",
            " [ 0.64595744 -0.91440569  0.86195019  0.87018928]] [[6.7 3.  5.  1.7]\n",
            " [5.9 3.  4.2 1.5]\n",
            " [4.8 3.4 1.6 0.2]\n",
            " [5.4 3.4 1.7 0.2]\n",
            " [6.4 2.7 5.3 1.9]]\n",
            "[0 0 0 0 0]\n"
          ]
        }
      ]
    },
    {
      "cell_type": "code",
      "source": [
        "model = Perceptron(max_iter = 10000000, eta0 = 0.1, random_state = 0) #hoc 40 lan, toc do hoc 0.1 (0-1)\n",
        "model.fit(X_train_std, y_train)\n",
        "y_pred = model.predict(X_test_std)\n",
        "print(y_pred)\n",
        "print(y_test)\n",
        "print('Do chinh xac mo hinh: ', accuracy_score(y_test, y_pred))"
      ],
      "metadata": {
        "colab": {
          "base_uri": "https://localhost:8080/"
        },
        "id": "Ytfb12d116jT",
        "outputId": "11ec92de-db2e-49ef-877a-adca25b11d6b"
      },
      "execution_count": 6,
      "outputs": [
        {
          "output_type": "stream",
          "name": "stdout",
          "text": [
            "[0 2 1 1 0 1 2 0 1 0 0 0 0 1 1 2 1 1 0 2 2 2 0 1 1 0 1 1 2 1 2 1 0 2 0 0 0\n",
            " 1 0 1 2 1 2 0 1]\n",
            "[0 2 2 1 0 1 2 0 1 0 0 0 0 1 2 2 1 2 0 2 2 2 0 1 1 0 1 1 2 1 2 2 1 2 1 0 0\n",
            " 1 0 1 1 1 2 0 1]\n",
            "Do chinh xac mo hinh:  0.8444444444444444\n"
          ]
        }
      ]
    },
    {
      "cell_type": "code",
      "source": [],
      "metadata": {
        "id": "nAX2nCCb2H2y"
      },
      "execution_count": null,
      "outputs": []
    }
  ]
}