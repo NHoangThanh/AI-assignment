{
  "nbformat": 4,
  "nbformat_minor": 0,
  "metadata": {
    "colab": {
      "provenance": [],
      "authorship_tag": "ABX9TyMUORlUDETwiTscMDYQE37C",
      "include_colab_link": true
    },
    "kernelspec": {
      "name": "python3",
      "display_name": "Python 3"
    },
    "language_info": {
      "name": "python"
    }
  },
  "cells": [
    {
      "cell_type": "markdown",
      "metadata": {
        "id": "view-in-github",
        "colab_type": "text"
      },
      "source": [
        "<a href=\"https://colab.research.google.com/github/NHoangThanh/AI-assignment/blob/main/ArtificalNeuralNetwork_data_crab.ipynb\" target=\"_parent\"><img src=\"https://colab.research.google.com/assets/colab-badge.svg\" alt=\"Open In Colab\"/></a>"
      ]
    },
    {
      "cell_type": "code",
      "execution_count": 1,
      "metadata": {
        "id": "Q3BKnhgV2ZbG"
      },
      "outputs": [],
      "source": [
        "import pandas as pd\n",
        "url = 'data_crab.csv'\n",
        "data = pd.read_csv(url)"
      ]
    },
    {
      "cell_type": "code",
      "source": [
        "from sklearn.linear_model import Perceptron\n",
        "from sklearn.model_selection import train_test_split\n",
        "from sklearn.metrics import accuracy_score\n",
        "from sklearn.preprocessing import StandardScaler"
      ],
      "metadata": {
        "id": "rkxB4vvI24qZ"
      },
      "execution_count": 2,
      "outputs": []
    },
    {
      "cell_type": "code",
      "source": [
        "data['sp'] = data['sp'].replace(to_replace=['O','B'], value = [0,1])\n",
        "data['sex'] = data['sex'].replace(to_replace = ['M','F'], value = [0,1])\n",
        "\n",
        "X = pd.DataFrame(\n",
        "    [data['sp'], data['FL'], data['RW'], data['CL'], data['CW'], data['BD']]).T\n",
        "y = pd.DataFrame(data['sex'])\n",
        "\n",
        "X_train, X_test, y_train, y_test = train_test_split(X,y,test_size = 0.3)\n",
        "sc = StandardScaler()\n",
        "sc.fit(X_train)\n",
        "X_train_std = sc.transform(X_train)\n",
        "X_test_std = sc.transform(X_test)\n",
        "print(X_train_std[:5])\n",
        "print('--------------------------------')\n",
        "print(X_train[:5])\n",
        "print('--------------------------------')\n",
        "print(y[:5])"
      ],
      "metadata": {
        "colab": {
          "base_uri": "https://localhost:8080/"
        },
        "id": "cobGN1m62-YU",
        "outputId": "86788b09-beff-433f-95f8-6412abae16d5"
      },
      "execution_count": 7,
      "outputs": [
        {
          "output_type": "stream",
          "name": "stdout",
          "text": [
            "[[ 1.         -0.63571618 -0.36786179 -0.53419132 -0.47957224 -0.68947043]\n",
            " [-1.         -0.46367959 -0.48625409 -0.42223506 -0.54266199 -0.28341212]\n",
            " [ 1.         -1.03713491 -0.64411049 -0.95402732 -0.92120051 -0.89249959]\n",
            " [ 1.         -0.06226086  0.22409971  0.02559     0.13870733 -0.08038297]\n",
            " [ 1.         -0.72173448 -0.72303869 -0.54818585 -0.51742609 -0.83449126]]\n",
            "--------------------------------\n",
            "      sp    FL    RW    CL    CW    BD\n",
            "76   1.0  13.4  11.8  28.4  32.7  11.7\n",
            "110  0.0  14.0  11.5  29.2  32.2  13.1\n",
            "68   1.0  12.0  11.1  25.4  29.2  11.0\n",
            "88   1.0  15.4  13.3  32.4  37.6  13.8\n",
            "17   1.0  13.1  10.9  28.3  32.4  11.2\n",
            "--------------------------------\n",
            "   sex\n",
            "0    0\n",
            "1    0\n",
            "2    0\n",
            "3    0\n",
            "4    0\n"
          ]
        }
      ]
    },
    {
      "cell_type": "code",
      "source": [
        "model = Perceptron(max_iter = 40, eta0 = 0.1, random_state = 0) #hoc 40 lan, toc do hoc 0.1 (0-1)\n",
        "model.fit(X_train_std, y_train)\n",
        "y_pred = model.predict(X_test_std)\n",
        "print(y_pred)\n",
        "print('--------------------------------')\n",
        "print(y_test)\n",
        "print('--------------------------------')\n",
        "print('Do chinh xac mo hinh: ', accuracy_score(y_test, y_pred))"
      ],
      "metadata": {
        "colab": {
          "base_uri": "https://localhost:8080/"
        },
        "id": "pXflK8i93DUi",
        "outputId": "b517bc7e-15a5-4d7d-fac7-67d577a7995c"
      },
      "execution_count": 8,
      "outputs": [
        {
          "output_type": "stream",
          "name": "stdout",
          "text": [
            "[1 1 0 0 0 1 0 1 0 0 1 1 0 0 0 0 0 0 0 0 1 1 1 0 0 0 1 0 1 1 1 1 1 1 0 1 1\n",
            " 1 0 0 0 1 0 0 1 1 1 1 0 1 1 1 0 1 1 1 1 1 0 0]\n",
            "--------------------------------\n",
            "     sex\n",
            "67     1\n",
            "99     1\n",
            "116    0\n",
            "38     0\n",
            "24     0\n",
            "55     1\n",
            "18     0\n",
            "51     1\n",
            "114    0\n",
            "133    0\n",
            "154    1\n",
            "199    1\n",
            "103    0\n",
            "152    1\n",
            "33     0\n",
            "53     1\n",
            "52     1\n",
            "125    0\n",
            "139    0\n",
            "117    0\n",
            "177    1\n",
            "162    1\n",
            "185    1\n",
            "108    0\n",
            "45     0\n",
            "20     0\n",
            "183    1\n",
            "149    0\n",
            "156    1\n",
            "184    1\n",
            "171    1\n",
            "61     1\n",
            "63     1\n",
            "83     1\n",
            "148    0\n",
            "71     1\n",
            "84     1\n",
            "155    1\n",
            "36     0\n",
            "128    0\n",
            "40     0\n",
            "90     1\n",
            "29     0\n",
            "106    0\n",
            "98     1\n",
            "80     1\n",
            "59     1\n",
            "85     1\n",
            "13     0\n",
            "179    1\n",
            "176    1\n",
            "11     0\n",
            "105    0\n",
            "77     1\n",
            "78     1\n",
            "195    1\n",
            "188    1\n",
            "181    1\n",
            "127    0\n",
            "7      0\n",
            "--------------------------------\n",
            "Do chinh xac mo hinh:  0.9333333333333333\n"
          ]
        },
        {
          "output_type": "stream",
          "name": "stderr",
          "text": [
            "/usr/local/lib/python3.9/dist-packages/sklearn/utils/validation.py:1143: DataConversionWarning: A column-vector y was passed when a 1d array was expected. Please change the shape of y to (n_samples, ), for example using ravel().\n",
            "  y = column_or_1d(y, warn=True)\n"
          ]
        }
      ]
    },
    {
      "cell_type": "code",
      "source": [],
      "metadata": {
        "id": "uVRf-XCp3Ihm"
      },
      "execution_count": null,
      "outputs": []
    }
  ]
}