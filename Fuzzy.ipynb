{
  "nbformat": 4,
  "nbformat_minor": 0,
  "metadata": {
    "colab": {
      "provenance": [],
      "authorship_tag": "ABX9TyOknQo592jSkxLm7lsAKyqK",
      "include_colab_link": true
    },
    "kernelspec": {
      "name": "python3",
      "display_name": "Python 3"
    },
    "language_info": {
      "name": "python"
    }
  },
  "cells": [
    {
      "cell_type": "markdown",
      "metadata": {
        "id": "view-in-github",
        "colab_type": "text"
      },
      "source": [
        "<a href=\"https://colab.research.google.com/github/NHoangThanh/AI-assignment/blob/main/Fuzzy.ipynb\" target=\"_parent\"><img src=\"https://colab.research.google.com/assets/colab-badge.svg\" alt=\"Open In Colab\"/></a>"
      ]
    },
    {
      "cell_type": "code",
      "source": [
        "pip install -U scikit-fuzzy"
      ],
      "metadata": {
        "id": "WMsTlZivbU5r"
      },
      "execution_count": null,
      "outputs": []
    },
    {
      "cell_type": "code",
      "execution_count": 7,
      "metadata": {
        "colab": {
          "base_uri": "https://localhost:8080/",
          "height": 299
        },
        "id": "AwRkhntRKXhH",
        "outputId": "505e5e43-629a-4577-9519-e6e52d1c6117"
      },
      "outputs": [
        {
          "output_type": "stream",
          "name": "stdout",
          "text": [
            "57.74439530057312\n"
          ]
        },
        {
          "output_type": "display_data",
          "data": {
            "text/plain": [
              "<Figure size 432x288 with 1 Axes>"
            ],
            "image/png": "[encoded data removed]"
          },
          "metadata": {
            "needs_background": "light"
          }
        }
      ],
      "source": [
        "import numpy as np\n",
        "import skfuzzy as fuzz\n",
        "from skfuzzy import control as ctrl\n",
        "#Nồi cơm điện\n",
        "time = ctrl.Antecedent(np.arange(10,180,1), 'Time')\n",
        "rice = ctrl.Antecedent(np.arange(200,1000,1), 'Rice')\n",
        "power = ctrl.Consequent(np.arange(0,100,1), 'Power')\n",
        "# tao ham cho tung member\n",
        "time['veryfast'] = fuzz.trimf(time.universe, [10,10,30])\n",
        "time['fast'] = fuzz.trimf(time.universe, [30,60,90])\n",
        "time['normal'] = fuzz.trimf(time.universe, [60,90,120])\n",
        "time['slow'] = fuzz.trimf(time.universe, [120,150,180])\n",
        "time['veryslow'] = fuzz.trimf(time.universe, [150,180,180])\n",
        "\n",
        "\n",
        "rice['less'] = fuzz.trimf(rice.universe, [200,200,500])\n",
        "rice['normal'] = fuzz.trimf(rice.universe, [200,500,1000])\n",
        "rice['much'] = fuzz.trimf(rice.universe, [500,1000,1000])\n",
        "\n",
        "\n",
        "power['low']= fuzz.trimf(power.universe,[0,0,50])\n",
        "power['normal']= fuzz.trimf(power.universe,[0,50,100])\n",
        "power['high']= fuzz.trimf(power.universe,[50,100,100])\n",
        "\n",
        "rule1 = ctrl.Rule(time['veryfast'] & rice['less'], power['normal'])\n",
        "rule2 = ctrl.Rule(time['veryfast'] & rice['normal'], power['high'])\n",
        "rule3= ctrl.Rule(time['veryfast'] & rice['much'], power['high'])\n",
        "\n",
        "\n",
        "rule4 = ctrl.Rule(time['fast'] & rice['less'], power['normal'])\n",
        "rule5 = ctrl.Rule(time['fast'] & rice['normal'], power['normal'])\n",
        "rule6 = ctrl.Rule(time['fast'] & rice['much'], power['high'])\n",
        "\n",
        "\n",
        "rule7 = ctrl.Rule(time['normal'] & rice['less'], power['low'])\n",
        "rule8 = ctrl.Rule(time['normal'] & rice['normal'], power['normal'])\n",
        "rule9 = ctrl.Rule(time['normal'] & rice['much'], power['normal'])\n",
        "\n",
        "rule10 = ctrl.Rule(time['slow'] & rice['less'], power['low'])\n",
        "rule11 = ctrl.Rule(time['slow'] & rice['normal'], power['low'])\n",
        "rule12 = ctrl.Rule(time['slow'] & rice['much'], power['normal'])\n",
        "\n",
        "rule13 = ctrl.Rule(time['veryslow'] & rice['less'], power['low'])\n",
        "rule14 = ctrl.Rule(time['veryslow'] & rice['normal'], power['low'])\n",
        "rule15 = ctrl.Rule(time['veryslow'] & rice['much'], power['low'])\n",
        "\n",
        "powering_ctrl = ctrl.ControlSystem([rule1, rule2, rule3, rule4, rule5, rule6, rule7, rule8, rule9, rule10, rule11, rule12, rule13, rule14, rule15])\n",
        "powering = ctrl.ControlSystemSimulation(powering_ctrl)\n",
        "powering.input['Time'] = 20\n",
        "powering.input['Rice'] = 400\n",
        "powering.compute()\n",
        "print(powering.output['Power'])\n",
        "power.view(sim=powering)"
      ]
    },
    {
      "cell_type": "code",
      "source": [
        "# Bồn nước\n",
        "\n"
      ],
      "metadata": {
        "id": "WtSCyZQBd5hU"
      },
      "execution_count": null,
      "outputs": []
    },
    {
      "cell_type": "code",
      "source": [],
      "metadata": {
        "id": "NDUv2H9AmvNO"
      },
      "execution_count": null,
      "outputs": []
    }
  ]
}