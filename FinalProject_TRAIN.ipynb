{
  "nbformat": 4,
  "nbformat_minor": 0,
  "metadata": {
    "colab": {
      "provenance": [],
      "gpuType": "T4",
      "mount_file_id": "126zDat2UqOIlz3s_soeFdrDODliRhsiC",
      "authorship_tag": "ABX9TyO4JdY9Hz6pclkwTkKNZ7WP",
      "include_colab_link": true
    },
    "kernelspec": {
      "name": "python3",
      "display_name": "Python 3"
    },
    "language_info": {
      "name": "python"
    },
    "accelerator": "GPU",
    "gpuClass": "standard"
  },
  "cells": [
    {
      "cell_type": "markdown",
      "metadata": {
        "id": "view-in-github",
        "colab_type": "text"
      },
      "source": [
        "<a href=\"https://colab.research.google.com/github/NHoangThanh/AI-assignment/blob/main/FinalProject_TRAIN.ipynb\" target=\"_parent\"><img src=\"https://colab.research.google.com/assets/colab-badge.svg\" alt=\"Open In Colab\"/></a>"
      ]
    },
    {
      "cell_type": "code",
      "execution_count": 1,
      "metadata": {
        "id": "MsYTMnHCSqGm"
      },
      "outputs": [],
      "source": [
        "from keras.preprocessing.image import ImageDataGenerator\n",
        "from keras.optimizers import Adam\n",
        "from keras.utils import img_to_array, load_img\n",
        "from keras.utils import to_categorical, plot_model\n",
        "from keras.models import Sequential, Model\n",
        "from keras.layers import BatchNormalization, Conv2D, MaxPooling2D, LeakyReLU\n",
        "from keras.layers import Activation, Flatten, Dropout, Dense\n",
        "from keras.callbacks import EarlyStopping, ModelCheckpoint\n",
        "from keras.utils import np_utils\n",
        "\n",
        "from sklearn.model_selection import train_test_split\n",
        "from sklearn.utils import validation\n",
        "\n",
        "import matplotlib.pyplot as plt\n",
        "import numpy as np\n",
        "from os import listdir\n",
        "from numpy import asarray, save\n"
      ]
    },
    {
      "cell_type": "code",
      "source": [
        "folder = 'drive/MyDrive/face/'\n",
        "datas, labels = list(), list()\n",
        "for file in listdir(folder):\n",
        "  if file.startswith('Man_'):\n",
        "    output = 0\n",
        "  if file.startswith('Woman_'):\n",
        "    output = 1\n",
        "  data = load_img(folder+file, target_size=(96,96))\n",
        "  data = img_to_array(data)\n",
        "  datas.append(data)\n",
        "  labels.append(output)\n",
        "\n",
        "data_train = asarray(datas)\n",
        "label_train = asarray(labels)\n",
        "print(data_train.shape, label_train.shape)"
      ],
      "metadata": {
        "colab": {
          "base_uri": "https://localhost:8080/"
        },
        "id": "fLHEgr9HxXKU",
        "outputId": "0c957672-d44d-4bb4-d833-b4b8359b990e"
      },
      "execution_count": 2,
      "outputs": [
        {
          "output_type": "stream",
          "name": "stdout",
          "text": [
            "(2307, 96, 96, 3) (2307,)\n"
          ]
        }
      ]
    },
    {
      "cell_type": "code",
      "source": [
        "folder = 'drive/MyDrive/test/'\n",
        "datas, labels = list(), list()\n",
        "for file in listdir(folder):\n",
        "  if file.startswith('Man_'):\n",
        "    output = 0\n",
        "  if file.startswith('Woman_'):\n",
        "    output = 1\n",
        "  data = load_img(folder+file, target_size=(96,96))\n",
        "  data = img_to_array(data)\n",
        "  datas.append(data)\n",
        "  labels.append(output)\n",
        "\n",
        "data_test = asarray(datas)\n",
        "label_test = asarray(labels)\n",
        "print(data_test.shape, label_test.shape)"
      ],
      "metadata": {
        "colab": {
          "base_uri": "https://localhost:8080/"
        },
        "id": "au3GU23c8ajs",
        "outputId": "23fb55a7-5dcb-4f23-ab98-e43771e23fcc"
      },
      "execution_count": 3,
      "outputs": [
        {
          "output_type": "stream",
          "name": "stdout",
          "text": [
            "(500, 96, 96, 3) (500,)\n"
          ]
        }
      ]
    },
    {
      "cell_type": "code",
      "source": [
        "data_train = data_train.reshape(2307, 96, 96, 3)\n",
        "data_train = data_train.astype('float32')/255\n",
        "data_test = data_test.reshape(500,96,96,3)\n",
        "data_test = data_test.astype('float32')/255\n",
        "\n",
        "label_train = to_categorical(label_train)\n",
        "label_test = to_categorical(label_test)\n",
        "\n",
        "print(data_train.shape, label_train.shape, data_test.shape, label_test.shape)"
      ],
      "metadata": {
        "colab": {
          "base_uri": "https://localhost:8080/"
        },
        "id": "273VVSH_8zKR",
        "outputId": "cda1ec06-17f9-4550-f056-b092e1c1f318"
      },
      "execution_count": 4,
      "outputs": [
        {
          "output_type": "stream",
          "name": "stdout",
          "text": [
            "(2307, 96, 96, 3) (2307, 2) (500, 96, 96, 3) (500, 2)\n"
          ]
        }
      ]
    },
    {
      "cell_type": "code",
      "source": [
        "model = Sequential()\n",
        "\n",
        "model.add(Conv2D(32, (3,3), \n",
        "                 activation='linear', padding=\"same\", input_shape=(96,96,3)))\n",
        "model.add(LeakyReLU(alpha = 0.1))\n",
        "model.add(MaxPooling2D((3,3), padding = 'same'))\n",
        "\n",
        "model.add(Conv2D(64, (3,3), \n",
        "                 activation='linear', padding=\"same\"))\n",
        "model.add(LeakyReLU(alpha = 0.1))\n",
        "model.add(MaxPooling2D((3,3), padding = 'same'))\n",
        "\n",
        "model.add(Conv2D(64, (3,3), \n",
        "                 activation='linear', padding=\"same\"))\n",
        "model.add(LeakyReLU(alpha = 0.1))\n",
        "model.add(MaxPooling2D((2,2), padding = 'same'))\n",
        "\n",
        "model.add(Conv2D(128, (3,3), activation ='linear', padding=\"same\"))\n",
        "model.add(LeakyReLU(alpha = 0.1))\n",
        "model.add(MaxPooling2D((2,2), padding = 'same'))\n",
        "\n",
        "model.add(Conv2D(128, (3,3), activation='linear', padding=\"same\"))\n",
        "model.add(LeakyReLU(alpha = 0.1))\n",
        "model.add(MaxPooling2D((2,2), padding = 'same'))\n",
        "\n",
        "model.add(Flatten())\n",
        "model.add(Dense(1024))\n",
        "model.add(Activation(\"relu\"))\n",
        "model.add(Dropout(0.5))\n",
        "\n",
        "model.add(Dense(2))\n",
        "model.add(Activation(\"softmax\"))\n",
        "\n",
        "model.summary()"
      ],
      "metadata": {
        "colab": {
          "base_uri": "https://localhost:8080/"
        },
        "id": "vEqPZQWInEAJ",
        "outputId": "cf963c21-6f0f-43f9-f4eb-89fbfd81108e"
      },
      "execution_count": 5,
      "outputs": [
        {
          "output_type": "stream",
          "name": "stdout",
          "text": [
            "Model: \"sequential\"\n",
            "_________________________________________________________________\n",
            " Layer (type)                Output Shape              Param #   \n",
            "=================================================================\n",
            " conv2d (Conv2D)             (None, 96, 96, 32)        896       \n",
            "                                                                 \n",
            " leaky_re_lu (LeakyReLU)     (None, 96, 96, 32)        0         \n",
            "                                                                 \n",
            " max_pooling2d (MaxPooling2D  (None, 32, 32, 32)       0         \n",
            " )                                                               \n",
            "                                                                 \n",
            " conv2d_1 (Conv2D)           (None, 32, 32, 64)        18496     \n",
            "                                                                 \n",
            " leaky_re_lu_1 (LeakyReLU)   (None, 32, 32, 64)        0         \n",
            "                                                                 \n",
            " max_pooling2d_1 (MaxPooling  (None, 11, 11, 64)       0         \n",
            " 2D)                                                             \n",
            "                                                                 \n",
            " conv2d_2 (Conv2D)           (None, 11, 11, 64)        36928     \n",
            "                                                                 \n",
            " leaky_re_lu_2 (LeakyReLU)   (None, 11, 11, 64)        0         \n",
            "                                                                 \n",
            " max_pooling2d_2 (MaxPooling  (None, 6, 6, 64)         0         \n",
            " 2D)                                                             \n",
            "                                                                 \n",
            " conv2d_3 (Conv2D)           (None, 6, 6, 128)         73856     \n",
            "                                                                 \n",
            " leaky_re_lu_3 (LeakyReLU)   (None, 6, 6, 128)         0         \n",
            "                                                                 \n",
            " max_pooling2d_3 (MaxPooling  (None, 3, 3, 128)        0         \n",
            " 2D)                                                             \n",
            "                                                                 \n",
            " conv2d_4 (Conv2D)           (None, 3, 3, 128)         147584    \n",
            "                                                                 \n",
            " leaky_re_lu_4 (LeakyReLU)   (None, 3, 3, 128)         0         \n",
            "                                                                 \n",
            " max_pooling2d_4 (MaxPooling  (None, 2, 2, 128)        0         \n",
            " 2D)                                                             \n",
            "                                                                 \n",
            " flatten (Flatten)           (None, 512)               0         \n",
            "                                                                 \n",
            " dense (Dense)               (None, 1024)              525312    \n",
            "                                                                 \n",
            " activation (Activation)     (None, 1024)              0         \n",
            "                                                                 \n",
            " dropout (Dropout)           (None, 1024)              0         \n",
            "                                                                 \n",
            " dense_1 (Dense)             (None, 2)                 2050      \n",
            "                                                                 \n",
            " activation_1 (Activation)   (None, 2)                 0         \n",
            "                                                                 \n",
            "=================================================================\n",
            "Total params: 805,122\n",
            "Trainable params: 805,122\n",
            "Non-trainable params: 0\n",
            "_________________________________________________________________\n"
          ]
        }
      ]
    },
    {
      "cell_type": "code",
      "source": [
        "model.compile(optimizer = Adam(), loss = 'categorical_crossentropy', \n",
        "              metrics = ['accuracy'])\n",
        "\n",
        "train = model.fit(data_train, label_train, batch_size = 64, epochs= 100, verbose=1)\n",
        "test_loss, test_acc = model.evaluate(data_test, label_test)\n",
        "print('do chinh xac', test_acc)\n",
        "print('ham mat mat', test_loss)"
      ],
      "metadata": {
        "colab": {
          "base_uri": "https://localhost:8080/"
        },
        "id": "CfDoY-Oasb0K",
        "outputId": "984da63b-6eb0-45db-e9cb-df05f688edb3"
      },
      "execution_count": 6,
      "outputs": [
        {
          "output_type": "stream",
          "name": "stdout",
          "text": [
            "Epoch 1/100\n",
            "37/37 [==============================] - 11s 22ms/step - loss: 0.6382 - accuracy: 0.6142\n",
            "Epoch 2/100\n",
            "37/37 [==============================] - 1s 17ms/step - loss: 0.3949 - accuracy: 0.8179\n",
            "Epoch 3/100\n",
            "37/37 [==============================] - 1s 16ms/step - loss: 0.2920 - accuracy: 0.8739\n",
            "Epoch 4/100\n",
            "37/37 [==============================] - 1s 17ms/step - loss: 0.2317 - accuracy: 0.9072\n",
            "Epoch 5/100\n",
            "37/37 [==============================] - 1s 17ms/step - loss: 0.1633 - accuracy: 0.9367\n",
            "Epoch 6/100\n",
            "37/37 [==============================] - 1s 17ms/step - loss: 0.1007 - accuracy: 0.9619\n",
            "Epoch 7/100\n",
            "37/37 [==============================] - 1s 17ms/step - loss: 0.0717 - accuracy: 0.9723\n",
            "Epoch 8/100\n",
            "37/37 [==============================] - 1s 16ms/step - loss: 0.0722 - accuracy: 0.9740\n",
            "Epoch 9/100\n",
            "37/37 [==============================] - 1s 15ms/step - loss: 0.0324 - accuracy: 0.9883\n",
            "Epoch 10/100\n",
            "37/37 [==============================] - 1s 16ms/step - loss: 0.0224 - accuracy: 0.9926\n",
            "Epoch 11/100\n",
            "37/37 [==============================] - 1s 15ms/step - loss: 0.0168 - accuracy: 0.9939\n",
            "Epoch 12/100\n",
            "37/37 [==============================] - 1s 15ms/step - loss: 0.0443 - accuracy: 0.9861\n",
            "Epoch 13/100\n",
            "37/37 [==============================] - 1s 16ms/step - loss: 0.0151 - accuracy: 0.9965\n",
            "Epoch 14/100\n",
            "37/37 [==============================] - 1s 16ms/step - loss: 0.0271 - accuracy: 0.9913\n",
            "Epoch 15/100\n",
            "37/37 [==============================] - 1s 15ms/step - loss: 0.0147 - accuracy: 0.9944\n",
            "Epoch 16/100\n",
            "37/37 [==============================] - 1s 16ms/step - loss: 0.0180 - accuracy: 0.9935\n",
            "Epoch 17/100\n",
            "37/37 [==============================] - 1s 16ms/step - loss: 0.0339 - accuracy: 0.9874\n",
            "Epoch 18/100\n",
            "37/37 [==============================] - 1s 16ms/step - loss: 0.0109 - accuracy: 0.9965\n",
            "Epoch 19/100\n",
            "37/37 [==============================] - 1s 16ms/step - loss: 0.0106 - accuracy: 0.9970\n",
            "Epoch 20/100\n",
            "37/37 [==============================] - 1s 15ms/step - loss: 0.0123 - accuracy: 0.9944\n",
            "Epoch 21/100\n",
            "37/37 [==============================] - 1s 16ms/step - loss: 0.1022 - accuracy: 0.9636\n",
            "Epoch 22/100\n",
            "37/37 [==============================] - 1s 15ms/step - loss: 0.0331 - accuracy: 0.9835\n",
            "Epoch 23/100\n",
            "37/37 [==============================] - 1s 16ms/step - loss: 0.0126 - accuracy: 0.9948\n",
            "Epoch 24/100\n",
            "37/37 [==============================] - 1s 15ms/step - loss: 0.0093 - accuracy: 0.9987\n",
            "Epoch 25/100\n",
            "37/37 [==============================] - 1s 16ms/step - loss: 0.0031 - accuracy: 0.9996\n",
            "Epoch 26/100\n",
            "37/37 [==============================] - 1s 18ms/step - loss: 0.0051 - accuracy: 0.9991\n",
            "Epoch 27/100\n",
            "37/37 [==============================] - 1s 17ms/step - loss: 0.0029 - accuracy: 0.9996\n",
            "Epoch 28/100\n",
            "37/37 [==============================] - 1s 17ms/step - loss: 0.0019 - accuracy: 0.9996\n",
            "Epoch 29/100\n",
            "37/37 [==============================] - 1s 17ms/step - loss: 0.0025 - accuracy: 0.9996\n",
            "Epoch 30/100\n",
            "37/37 [==============================] - 1s 18ms/step - loss: 0.0020 - accuracy: 0.9996\n",
            "Epoch 31/100\n",
            "37/37 [==============================] - 1s 16ms/step - loss: 0.0020 - accuracy: 0.9991\n",
            "Epoch 32/100\n",
            "37/37 [==============================] - 1s 15ms/step - loss: 0.0013 - accuracy: 0.9996\n",
            "Epoch 33/100\n",
            "37/37 [==============================] - 1s 16ms/step - loss: 0.0022 - accuracy: 0.9991\n",
            "Epoch 34/100\n",
            "37/37 [==============================] - 1s 15ms/step - loss: 0.0025 - accuracy: 0.9991\n",
            "Epoch 35/100\n",
            "37/37 [==============================] - 1s 15ms/step - loss: 0.0012 - accuracy: 0.9996\n",
            "Epoch 36/100\n",
            "37/37 [==============================] - 1s 16ms/step - loss: 0.0020 - accuracy: 0.9996\n",
            "Epoch 37/100\n",
            "37/37 [==============================] - 1s 16ms/step - loss: 0.0010 - accuracy: 0.9991\n",
            "Epoch 38/100\n",
            "37/37 [==============================] - 1s 16ms/step - loss: 0.0013 - accuracy: 0.9991\n",
            "Epoch 39/100\n",
            "37/37 [==============================] - 1s 16ms/step - loss: 0.0011 - accuracy: 0.9996\n",
            "Epoch 40/100\n",
            "37/37 [==============================] - 1s 15ms/step - loss: 0.0013 - accuracy: 0.9996\n",
            "Epoch 41/100\n",
            "37/37 [==============================] - 1s 16ms/step - loss: 0.0010 - accuracy: 0.9996\n",
            "Epoch 42/100\n",
            "37/37 [==============================] - 1s 15ms/step - loss: 9.4899e-04 - accuracy: 0.9991\n",
            "Epoch 43/100\n",
            "37/37 [==============================] - 1s 16ms/step - loss: 7.7252e-04 - accuracy: 0.9996\n",
            "Epoch 44/100\n",
            "37/37 [==============================] - 1s 15ms/step - loss: 9.7792e-04 - accuracy: 0.9996\n",
            "Epoch 45/100\n",
            "37/37 [==============================] - 1s 16ms/step - loss: 8.1740e-04 - accuracy: 0.9991\n",
            "Epoch 46/100\n",
            "37/37 [==============================] - 1s 15ms/step - loss: 6.7064e-04 - accuracy: 0.9991\n",
            "Epoch 47/100\n",
            "37/37 [==============================] - 1s 15ms/step - loss: 7.8556e-04 - accuracy: 0.9996\n",
            "Epoch 48/100\n",
            "37/37 [==============================] - 1s 17ms/step - loss: 8.1661e-04 - accuracy: 0.9996\n",
            "Epoch 49/100\n",
            "37/37 [==============================] - 1s 17ms/step - loss: 7.0405e-04 - accuracy: 0.9996\n",
            "Epoch 50/100\n",
            "37/37 [==============================] - 1s 17ms/step - loss: 6.6633e-04 - accuracy: 0.9996\n",
            "Epoch 51/100\n",
            "37/37 [==============================] - 1s 17ms/step - loss: 7.9653e-04 - accuracy: 0.9991\n",
            "Epoch 52/100\n",
            "37/37 [==============================] - 1s 17ms/step - loss: 6.3730e-04 - accuracy: 0.9996\n",
            "Epoch 53/100\n",
            "37/37 [==============================] - 1s 17ms/step - loss: 6.1618e-04 - accuracy: 0.9996\n",
            "Epoch 54/100\n",
            "37/37 [==============================] - 1s 16ms/step - loss: 5.5203e-04 - accuracy: 1.0000\n",
            "Epoch 55/100\n",
            "37/37 [==============================] - 1s 15ms/step - loss: 7.3351e-04 - accuracy: 0.9991\n",
            "Epoch 56/100\n",
            "37/37 [==============================] - 1s 16ms/step - loss: 6.7841e-04 - accuracy: 0.9991\n",
            "Epoch 57/100\n",
            "37/37 [==============================] - 1s 16ms/step - loss: 7.7272e-04 - accuracy: 0.9991\n",
            "Epoch 58/100\n",
            "37/37 [==============================] - 1s 16ms/step - loss: 6.6136e-04 - accuracy: 0.9996\n",
            "Epoch 59/100\n",
            "37/37 [==============================] - 1s 15ms/step - loss: 6.9909e-04 - accuracy: 0.9991\n",
            "Epoch 60/100\n",
            "37/37 [==============================] - 1s 16ms/step - loss: 6.3180e-04 - accuracy: 0.9996\n",
            "Epoch 61/100\n",
            "37/37 [==============================] - 1s 16ms/step - loss: 7.7048e-04 - accuracy: 0.9996\n",
            "Epoch 62/100\n",
            "37/37 [==============================] - 1s 15ms/step - loss: 7.0554e-04 - accuracy: 0.9991\n",
            "Epoch 63/100\n",
            "37/37 [==============================] - 1s 15ms/step - loss: 5.6710e-04 - accuracy: 0.9996\n",
            "Epoch 64/100\n",
            "37/37 [==============================] - 1s 16ms/step - loss: 6.3651e-04 - accuracy: 0.9996\n",
            "Epoch 65/100\n",
            "37/37 [==============================] - 1s 16ms/step - loss: 7.4876e-04 - accuracy: 0.9996\n",
            "Epoch 66/100\n",
            "37/37 [==============================] - 1s 16ms/step - loss: 6.0065e-04 - accuracy: 0.9996\n",
            "Epoch 67/100\n",
            "37/37 [==============================] - 1s 16ms/step - loss: 6.8770e-04 - accuracy: 0.9991\n",
            "Epoch 68/100\n",
            "37/37 [==============================] - 1s 17ms/step - loss: 6.8142e-04 - accuracy: 0.9991\n",
            "Epoch 69/100\n",
            "37/37 [==============================] - 1s 16ms/step - loss: 8.3528e-04 - accuracy: 0.9996\n",
            "Epoch 70/100\n",
            "37/37 [==============================] - 1s 18ms/step - loss: 0.0010 - accuracy: 0.9991\n",
            "Epoch 71/100\n",
            "37/37 [==============================] - 1s 21ms/step - loss: 7.6420e-04 - accuracy: 0.9991\n",
            "Epoch 72/100\n",
            "37/37 [==============================] - 1s 18ms/step - loss: 7.6571e-04 - accuracy: 0.9991\n",
            "Epoch 73/100\n",
            "37/37 [==============================] - 1s 17ms/step - loss: 7.9319e-04 - accuracy: 0.9991\n",
            "Epoch 74/100\n",
            "37/37 [==============================] - 1s 17ms/step - loss: 6.0879e-04 - accuracy: 0.9996\n",
            "Epoch 75/100\n",
            "37/37 [==============================] - 1s 17ms/step - loss: 5.9743e-04 - accuracy: 0.9996\n",
            "Epoch 76/100\n",
            "37/37 [==============================] - 1s 18ms/step - loss: 7.4884e-04 - accuracy: 0.9991\n",
            "Epoch 77/100\n",
            "37/37 [==============================] - 1s 15ms/step - loss: 6.1826e-04 - accuracy: 0.9991\n",
            "Epoch 78/100\n",
            "37/37 [==============================] - 1s 15ms/step - loss: 6.1216e-04 - accuracy: 0.9996\n",
            "Epoch 79/100\n",
            "37/37 [==============================] - 1s 15ms/step - loss: 6.6252e-04 - accuracy: 0.9996\n",
            "Epoch 80/100\n",
            "37/37 [==============================] - 1s 16ms/step - loss: 5.1885e-04 - accuracy: 1.0000\n",
            "Epoch 81/100\n",
            "37/37 [==============================] - 1s 15ms/step - loss: 6.7014e-04 - accuracy: 0.9996\n",
            "Epoch 82/100\n",
            "37/37 [==============================] - 1s 16ms/step - loss: 5.1046e-04 - accuracy: 1.0000\n",
            "Epoch 83/100\n",
            "37/37 [==============================] - 1s 15ms/step - loss: 8.3537e-04 - accuracy: 0.9991\n",
            "Epoch 84/100\n",
            "37/37 [==============================] - 1s 16ms/step - loss: 6.5170e-04 - accuracy: 0.9996\n",
            "Epoch 85/100\n",
            "37/37 [==============================] - 1s 16ms/step - loss: 7.1373e-04 - accuracy: 0.9991\n",
            "Epoch 86/100\n",
            "37/37 [==============================] - 1s 15ms/step - loss: 6.3029e-04 - accuracy: 0.9991\n",
            "Epoch 87/100\n",
            "37/37 [==============================] - 1s 16ms/step - loss: 6.0628e-04 - accuracy: 0.9996\n",
            "Epoch 88/100\n",
            "37/37 [==============================] - 1s 15ms/step - loss: 6.5120e-04 - accuracy: 0.9991\n",
            "Epoch 89/100\n",
            "37/37 [==============================] - 1s 16ms/step - loss: 5.4549e-04 - accuracy: 1.0000\n",
            "Epoch 90/100\n",
            "37/37 [==============================] - 1s 15ms/step - loss: 6.5827e-04 - accuracy: 0.9996\n",
            "Epoch 91/100\n",
            "37/37 [==============================] - 1s 16ms/step - loss: 6.0694e-04 - accuracy: 0.9991\n",
            "Epoch 92/100\n",
            "37/37 [==============================] - 1s 16ms/step - loss: 6.3289e-04 - accuracy: 0.9996\n",
            "Epoch 93/100\n",
            "37/37 [==============================] - 1s 16ms/step - loss: 6.3406e-04 - accuracy: 0.9996\n",
            "Epoch 94/100\n",
            "37/37 [==============================] - 1s 17ms/step - loss: 5.4705e-04 - accuracy: 0.9996\n",
            "Epoch 95/100\n",
            "37/37 [==============================] - 1s 17ms/step - loss: 5.4049e-04 - accuracy: 0.9996\n",
            "Epoch 96/100\n",
            "37/37 [==============================] - 1s 17ms/step - loss: 5.0212e-04 - accuracy: 1.0000\n",
            "Epoch 97/100\n",
            "37/37 [==============================] - 1s 17ms/step - loss: 5.0277e-04 - accuracy: 1.0000\n",
            "Epoch 98/100\n",
            "37/37 [==============================] - 1s 17ms/step - loss: 8.1840e-04 - accuracy: 0.9996\n",
            "Epoch 99/100\n",
            "37/37 [==============================] - 1s 17ms/step - loss: 6.7444e-04 - accuracy: 0.9996\n",
            "Epoch 100/100\n",
            "37/37 [==============================] - 1s 16ms/step - loss: 7.1065e-04 - accuracy: 0.9991\n",
            "16/16 [==============================] - 1s 13ms/step - loss: 2.7556e-06 - accuracy: 1.0000\n",
            "do chinh xac 1.0\n",
            "ham mat mat 2.7555806809687056e-06\n"
          ]
        }
      ]
    },
    {
      "cell_type": "code",
      "source": [
        "model.save('drive/MyDrive/face_detection.h5')"
      ],
      "metadata": {
        "id": "PFnRlsk7ttcS"
      },
      "execution_count": 12,
      "outputs": []
    },
    {
      "cell_type": "code",
      "source": [
        "accuracy = train.history['accuracy']\n",
        "loss = train.history['loss']\n",
        "epochs = range(len(accuracy))\n",
        "plt.plot(epochs, accuracy, 'k', label = 'Train accuracy')\n",
        "plt.plot(epochs, loss, 'bo', label = 'Train loss')\n",
        "plt.legend(['Train accuracy', 'Train loss'])\n",
        "plt.show()"
      ],
      "metadata": {
        "colab": {
          "base_uri": "https://localhost:8080/",
          "height": 430
        },
        "id": "NXJoStv5A_Nl",
        "outputId": "be74df60-aeee-4648-d4ee-6d3ed5c93c88"
      },
      "execution_count": 11,
      "outputs": [
        {
          "output_type": "display_data",
          "data": {
            "text/plain": [
              "<Figure size 640x480 with 1 Axes>"
            ],
            "image/png": "[encoded data removed]"
          },
          "metadata": {}
        }
      ]
    },
    {
      "cell_type": "code",
      "source": [],
      "metadata": {
        "id": "D8rSJUdSB0xP"
      },
      "execution_count": null,
      "outputs": []
    }
  ]
}