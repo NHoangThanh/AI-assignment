{
  "nbformat": 4,
  "nbformat_minor": 0,
  "metadata": {
    "colab": {
      "provenance": [],
      "gpuType": "T4",
      "mount_file_id": "126zDat2UqOIlz3s_soeFdrDODliRhsiC",
      "authorship_tag": "ABX9TyNCOwzS1KFQul4ZiSJfyofV",
      "include_colab_link": true
    },
    "kernelspec": {
      "name": "python3",
      "display_name": "Python 3"
    },
    "language_info": {
      "name": "python"
    },
    "accelerator": "GPU",
    "gpuClass": "standard"
  },
  "cells": [
    {
      "cell_type": "markdown",
      "metadata": {
        "id": "view-in-github",
        "colab_type": "text"
      },
      "source": [
        "<a href=\"https://colab.research.google.com/github/NHoangThanh/AI-assignment/blob/main/FinalProject_TRAIN.ipynb\" target=\"_parent\"><img src=\"https://colab.research.google.com/assets/colab-badge.svg\" alt=\"Open In Colab\"/></a>"
      ]
    },
    {
      "cell_type": "code",
      "execution_count": 2,
      "metadata": {
        "id": "MsYTMnHCSqGm"
      },
      "outputs": [],
      "source": [
        "from keras.preprocessing.image import ImageDataGenerator\n",
        "from keras.optimizers import Adam\n",
        "from keras.utils import img_to_array, load_img\n",
        "from keras.utils import to_categorical, plot_model\n",
        "from keras.models import Sequential, Model\n",
        "from keras.layers import BatchNormalization, Conv2D, MaxPooling2D, LeakyReLU\n",
        "from keras.layers import Activation, Flatten, Dropout, Dense\n",
        "from keras.callbacks import EarlyStopping, ModelCheckpoint\n",
        "from keras.utils import np_utils\n",
        "\n",
        "from sklearn.model_selection import train_test_split\n",
        "from sklearn.utils import validation\n",
        "\n",
        "import matplotlib.pyplot as plt\n",
        "import numpy as np\n",
        "from os import listdir\n",
        "from numpy import asarray, save\n"
      ]
    },
    {
      "cell_type": "code",
      "source": [
        "folder = 'drive/MyDrive/face/'\n",
        "datas, labels = list(), list()\n",
        "for file in listdir(folder):\n",
        "  if file.startswith('Man_'):\n",
        "    output = 0\n",
        "  if file.startswith('Woman_'):\n",
        "    output = 1\n",
        "  data = load_img(folder+file, target_size=(96,96))\n",
        "  data = img_to_array(data)\n",
        "  datas.append(data)\n",
        "  labels.append(output)\n",
        "\n",
        "data_train = asarray(datas)\n",
        "label_train = asarray(labels)\n",
        "print(data_train.shape, label_train.shape)"
      ],
      "metadata": {
        "colab": {
          "base_uri": "https://localhost:8080/"
        },
        "id": "fLHEgr9HxXKU",
        "outputId": "b9e25812-78d6-441c-9be3-33c6dabca1cf"
      },
      "execution_count": 4,
      "outputs": [
        {
          "output_type": "stream",
          "name": "stdout",
          "text": [
            "(2307, 96, 96, 3) (2307,)\n"
          ]
        }
      ]
    },
    {
      "cell_type": "code",
      "source": [
        "folder = 'drive/MyDrive/test/'\n",
        "datas, labels = list(), list()\n",
        "for file in listdir(folder):\n",
        "  if file.startswith('Man_'):\n",
        "    output = 0\n",
        "  if file.startswith('Woman_'):\n",
        "    output = 1\n",
        "  data = load_img(folder+file, target_size=(96,96))\n",
        "  data = img_to_array(data)\n",
        "  datas.append(data)\n",
        "  labels.append(output)\n",
        "\n",
        "data_test = asarray(datas)\n",
        "label_test = asarray(labels)\n",
        "print(data_test.shape, label_test.shape)"
      ],
      "metadata": {
        "colab": {
          "base_uri": "https://localhost:8080/"
        },
        "id": "au3GU23c8ajs",
        "outputId": "ff244b29-6531-4f6a-f54c-22ca8d062e3a"
      },
      "execution_count": 5,
      "outputs": [
        {
          "output_type": "stream",
          "name": "stdout",
          "text": [
            "(500, 96, 96, 3) (500,)\n"
          ]
        }
      ]
    },
    {
      "cell_type": "code",
      "source": [
        "data_train = data_train.reshape(2307, 96, 96, 3)\n",
        "data_train = data_train.astype('float32')/255\n",
        "data_test = data_test.reshape(500,96,96,3)\n",
        "data_test = data_test.astype('float32')/255\n",
        "\n",
        "label_train = to_categorical(label_train)\n",
        "label_test = to_categorical(label_test)\n",
        "\n",
        "print(data_train.shape, label_train.shape, data_test.shape, label_test.shape)"
      ],
      "metadata": {
        "colab": {
          "base_uri": "https://localhost:8080/"
        },
        "id": "273VVSH_8zKR",
        "outputId": "2c4e746f-2566-49f7-fbf5-74c4bf8927ac"
      },
      "execution_count": 9,
      "outputs": [
        {
          "output_type": "stream",
          "name": "stdout",
          "text": [
            "(2307, 96, 96, 3) (2307, 2) (500, 96, 96, 3) (500, 2)\n"
          ]
        }
      ]
    },
    {
      "cell_type": "code",
      "source": [
        "model = Sequential()\n",
        "\n",
        "model.add(Conv2D(32, (3,3), \n",
        "                 activation='linear', padding=\"same\", input_shape=(96,96,3)))\n",
        "model.add(LeakyReLU(alpha = 0.1))\n",
        "model.add(MaxPooling2D((3,3), padding = 'same'))\n",
        "\n",
        "model.add(Conv2D(64, (3,3), \n",
        "                 activation='linear', padding=\"same\"))\n",
        "model.add(LeakyReLU(alpha = 0.1))\n",
        "model.add(MaxPooling2D((3,3), padding = 'same'))\n",
        "\n",
        "model.add(Conv2D(64, (3,3), \n",
        "                 activation='linear', padding=\"same\"))\n",
        "model.add(LeakyReLU(alpha = 0.1))\n",
        "model.add(MaxPooling2D((2,2), padding = 'same'))\n",
        "\n",
        "model.add(Conv2D(128, (3,3), activation ='linear', padding=\"same\"))\n",
        "model.add(LeakyReLU(alpha = 0.1))\n",
        "model.add(MaxPooling2D((2,2), padding = 'same'))\n",
        "\n",
        "model.add(Conv2D(128, (3,3), activation='linear', padding=\"same\"))\n",
        "model.add(LeakyReLU(alpha = 0.1))\n",
        "model.add(MaxPooling2D((2,2), padding = 'same'))\n",
        "\n",
        "model.add(Flatten())\n",
        "model.add(Dense(1024))\n",
        "model.add(Activation(\"relu\"))\n",
        "model.add(Dropout(0.5))\n",
        "\n",
        "model.add(Dense(2))\n",
        "model.add(Activation(\"softmax\"))\n",
        "\n",
        "model.summary()"
      ],
      "metadata": {
        "colab": {
          "base_uri": "https://localhost:8080/"
        },
        "id": "vEqPZQWInEAJ",
        "outputId": "c61a823c-0b3c-421d-da6f-1ed1579c9498"
      },
      "execution_count": 10,
      "outputs": [
        {
          "output_type": "stream",
          "name": "stdout",
          "text": [
            "Model: \"sequential\"\n",
            "_________________________________________________________________\n",
            " Layer (type)                Output Shape              Param #   \n",
            "=================================================================\n",
            " conv2d (Conv2D)             (None, 96, 96, 32)        896       \n",
            "                                                                 \n",
            " leaky_re_lu (LeakyReLU)     (None, 96, 96, 32)        0         \n",
            "                                                                 \n",
            " max_pooling2d (MaxPooling2D  (None, 32, 32, 32)       0         \n",
            " )                                                               \n",
            "                                                                 \n",
            " conv2d_1 (Conv2D)           (None, 32, 32, 64)        18496     \n",
            "                                                                 \n",
            " leaky_re_lu_1 (LeakyReLU)   (None, 32, 32, 64)        0         \n",
            "                                                                 \n",
            " max_pooling2d_1 (MaxPooling  (None, 11, 11, 64)       0         \n",
            " 2D)                                                             \n",
            "                                                                 \n",
            " conv2d_2 (Conv2D)           (None, 11, 11, 64)        36928     \n",
            "                                                                 \n",
            " leaky_re_lu_2 (LeakyReLU)   (None, 11, 11, 64)        0         \n",
            "                                                                 \n",
            " max_pooling2d_2 (MaxPooling  (None, 6, 6, 64)         0         \n",
            " 2D)                                                             \n",
            "                                                                 \n",
            " conv2d_3 (Conv2D)           (None, 6, 6, 128)         73856     \n",
            "                                                                 \n",
            " leaky_re_lu_3 (LeakyReLU)   (None, 6, 6, 128)         0         \n",
            "                                                                 \n",
            " max_pooling2d_3 (MaxPooling  (None, 3, 3, 128)        0         \n",
            " 2D)                                                             \n",
            "                                                                 \n",
            " conv2d_4 (Conv2D)           (None, 3, 3, 128)         147584    \n",
            "                                                                 \n",
            " leaky_re_lu_4 (LeakyReLU)   (None, 3, 3, 128)         0         \n",
            "                                                                 \n",
            " max_pooling2d_4 (MaxPooling  (None, 2, 2, 128)        0         \n",
            " 2D)                                                             \n",
            "                                                                 \n",
            " flatten (Flatten)           (None, 512)               0         \n",
            "                                                                 \n",
            " dense (Dense)               (None, 1024)              525312    \n",
            "                                                                 \n",
            " activation (Activation)     (None, 1024)              0         \n",
            "                                                                 \n",
            " dropout (Dropout)           (None, 1024)              0         \n",
            "                                                                 \n",
            " dense_1 (Dense)             (None, 2)                 2050      \n",
            "                                                                 \n",
            " activation_1 (Activation)   (None, 2)                 0         \n",
            "                                                                 \n",
            "=================================================================\n",
            "Total params: 805,122\n",
            "Trainable params: 805,122\n",
            "Non-trainable params: 0\n",
            "_________________________________________________________________\n"
          ]
        }
      ]
    },
    {
      "cell_type": "code",
      "source": [
        "model.compile(optimizer = Adam(), loss = 'categorical_crossentropy', \n",
        "              metrics = ['accuracy'])\n",
        "\n",
        "train = model.fit(data_train, label_train, batch_size = 64, epochs= 100, verbose=1)\n",
        "test_loss, test_acc = model.evaluate(data_test, label_test)\n",
        "print('do chinh xac', test_acc)\n",
        "print('ham mat mat', test_loss)"
      ],
      "metadata": {
        "colab": {
          "base_uri": "https://localhost:8080/"
        },
        "id": "CfDoY-Oasb0K",
        "outputId": "98ba7fa8-0c08-49e6-e183-c57f8fcd7ac2"
      },
      "execution_count": 11,
      "outputs": [
        {
          "output_type": "stream",
          "name": "stdout",
          "text": [
            "Epoch 1/100\n",
            "37/37 [==============================] - 10s 22ms/step - loss: 0.6213 - accuracy: 0.6389\n",
            "Epoch 2/100\n",
            "37/37 [==============================] - 1s 16ms/step - loss: 0.4199 - accuracy: 0.8062\n",
            "Epoch 3/100\n",
            "37/37 [==============================] - 1s 16ms/step - loss: 0.3027 - accuracy: 0.8708\n",
            "Epoch 4/100\n",
            "37/37 [==============================] - 1s 16ms/step - loss: 0.2343 - accuracy: 0.9051\n",
            "Epoch 5/100\n",
            "37/37 [==============================] - 1s 16ms/step - loss: 0.1435 - accuracy: 0.9428\n",
            "Epoch 6/100\n",
            "37/37 [==============================] - 1s 16ms/step - loss: 0.1484 - accuracy: 0.9419\n",
            "Epoch 7/100\n",
            "37/37 [==============================] - 1s 17ms/step - loss: 0.0929 - accuracy: 0.9684\n",
            "Epoch 8/100\n",
            "37/37 [==============================] - 1s 16ms/step - loss: 0.0656 - accuracy: 0.9757\n",
            "Epoch 9/100\n",
            "37/37 [==============================] - 1s 17ms/step - loss: 0.1471 - accuracy: 0.9436\n",
            "Epoch 10/100\n",
            "37/37 [==============================] - 1s 17ms/step - loss: 0.1172 - accuracy: 0.9549\n",
            "Epoch 11/100\n",
            "37/37 [==============================] - 1s 18ms/step - loss: 0.0674 - accuracy: 0.9749\n",
            "Epoch 12/100\n",
            "37/37 [==============================] - 1s 18ms/step - loss: 0.0314 - accuracy: 0.9887\n",
            "Epoch 13/100\n",
            "37/37 [==============================] - 1s 17ms/step - loss: 0.1541 - accuracy: 0.9389\n",
            "Epoch 14/100\n",
            "37/37 [==============================] - 1s 16ms/step - loss: 0.0662 - accuracy: 0.9801\n",
            "Epoch 15/100\n",
            "37/37 [==============================] - 1s 16ms/step - loss: 0.0631 - accuracy: 0.9788\n",
            "Epoch 16/100\n",
            "37/37 [==============================] - 1s 16ms/step - loss: 0.0199 - accuracy: 0.9935\n",
            "Epoch 17/100\n",
            "37/37 [==============================] - 1s 16ms/step - loss: 0.0271 - accuracy: 0.9905\n",
            "Epoch 18/100\n",
            "37/37 [==============================] - 1s 16ms/step - loss: 0.0194 - accuracy: 0.9926\n",
            "Epoch 19/100\n",
            "37/37 [==============================] - 1s 16ms/step - loss: 0.1142 - accuracy: 0.9528\n",
            "Epoch 20/100\n",
            "37/37 [==============================] - 1s 16ms/step - loss: 0.0394 - accuracy: 0.9835\n",
            "Epoch 21/100\n",
            "37/37 [==============================] - 1s 16ms/step - loss: 0.0734 - accuracy: 0.9727\n",
            "Epoch 22/100\n",
            "37/37 [==============================] - 1s 16ms/step - loss: 0.0136 - accuracy: 0.9948\n",
            "Epoch 23/100\n",
            "37/37 [==============================] - 1s 16ms/step - loss: 0.0057 - accuracy: 0.9987\n",
            "Epoch 24/100\n",
            "37/37 [==============================] - 1s 16ms/step - loss: 0.0069 - accuracy: 0.9987\n",
            "Epoch 25/100\n",
            "37/37 [==============================] - 1s 16ms/step - loss: 0.0056 - accuracy: 0.9991\n",
            "Epoch 26/100\n",
            "37/37 [==============================] - 1s 16ms/step - loss: 0.0039 - accuracy: 0.9991\n",
            "Epoch 27/100\n",
            "37/37 [==============================] - 1s 20ms/step - loss: 0.0038 - accuracy: 0.9996\n",
            "Epoch 28/100\n",
            "37/37 [==============================] - 1s 18ms/step - loss: 0.0023 - accuracy: 0.9996\n",
            "Epoch 29/100\n",
            "37/37 [==============================] - 1s 16ms/step - loss: 0.0022 - accuracy: 0.9996\n",
            "Epoch 30/100\n",
            "37/37 [==============================] - 1s 18ms/step - loss: 0.0048 - accuracy: 0.9991\n",
            "Epoch 31/100\n",
            "37/37 [==============================] - 1s 17ms/step - loss: 0.0027 - accuracy: 0.9991\n",
            "Epoch 32/100\n",
            "37/37 [==============================] - 1s 17ms/step - loss: 0.0051 - accuracy: 0.9991\n",
            "Epoch 33/100\n",
            "37/37 [==============================] - 1s 16ms/step - loss: 0.0031 - accuracy: 0.9991\n",
            "Epoch 34/100\n",
            "37/37 [==============================] - 1s 17ms/step - loss: 0.0016 - accuracy: 0.9996\n",
            "Epoch 35/100\n",
            "37/37 [==============================] - 1s 17ms/step - loss: 0.0011 - accuracy: 0.9996\n",
            "Epoch 36/100\n",
            "37/37 [==============================] - 1s 17ms/step - loss: 0.0024 - accuracy: 0.9991\n",
            "Epoch 37/100\n",
            "37/37 [==============================] - 1s 16ms/step - loss: 0.0014 - accuracy: 0.9996\n",
            "Epoch 38/100\n",
            "37/37 [==============================] - 1s 16ms/step - loss: 0.0020 - accuracy: 0.9996\n",
            "Epoch 39/100\n",
            "37/37 [==============================] - 1s 16ms/step - loss: 0.0025 - accuracy: 0.9991\n",
            "Epoch 40/100\n",
            "37/37 [==============================] - 1s 16ms/step - loss: 0.0012 - accuracy: 0.9991\n",
            "Epoch 41/100\n",
            "37/37 [==============================] - 1s 16ms/step - loss: 0.0017 - accuracy: 0.9991\n",
            "Epoch 42/100\n",
            "37/37 [==============================] - 1s 23ms/step - loss: 9.6596e-04 - accuracy: 0.9996\n",
            "Epoch 43/100\n",
            "37/37 [==============================] - 1s 18ms/step - loss: 0.0014 - accuracy: 0.9991\n",
            "Epoch 44/100\n",
            "37/37 [==============================] - 1s 23ms/step - loss: 0.0011 - accuracy: 0.9991\n",
            "Epoch 45/100\n",
            "37/37 [==============================] - 1s 16ms/step - loss: 0.0012 - accuracy: 0.9991\n",
            "Epoch 46/100\n",
            "37/37 [==============================] - 1s 16ms/step - loss: 7.0738e-04 - accuracy: 0.9996\n",
            "Epoch 47/100\n",
            "37/37 [==============================] - 1s 16ms/step - loss: 8.7727e-04 - accuracy: 0.9991\n",
            "Epoch 48/100\n",
            "37/37 [==============================] - 1s 16ms/step - loss: 0.0011 - accuracy: 0.9991\n",
            "Epoch 49/100\n",
            "37/37 [==============================] - 1s 16ms/step - loss: 0.0013 - accuracy: 0.9996\n",
            "Epoch 50/100\n",
            "37/37 [==============================] - 1s 16ms/step - loss: 6.7013e-04 - accuracy: 0.9996\n",
            "Epoch 51/100\n",
            "37/37 [==============================] - 1s 16ms/step - loss: 5.8513e-04 - accuracy: 0.9996\n",
            "Epoch 52/100\n",
            "37/37 [==============================] - 1s 17ms/step - loss: 4.5883e-04 - accuracy: 0.9996\n",
            "Epoch 53/100\n",
            "37/37 [==============================] - 1s 17ms/step - loss: 7.2115e-04 - accuracy: 0.9991\n",
            "Epoch 54/100\n",
            "37/37 [==============================] - 1s 17ms/step - loss: 0.0013 - accuracy: 0.9991\n",
            "Epoch 55/100\n",
            "37/37 [==============================] - 1s 18ms/step - loss: 0.0783 - accuracy: 0.9710\n",
            "Epoch 56/100\n",
            "37/37 [==============================] - 1s 18ms/step - loss: 0.0816 - accuracy: 0.9688\n",
            "Epoch 57/100\n",
            "37/37 [==============================] - 1s 18ms/step - loss: 0.0278 - accuracy: 0.9926\n",
            "Epoch 58/100\n",
            "37/37 [==============================] - 1s 16ms/step - loss: 0.0153 - accuracy: 0.9952\n",
            "Epoch 59/100\n",
            "37/37 [==============================] - 1s 16ms/step - loss: 0.0051 - accuracy: 0.9983\n",
            "Epoch 60/100\n",
            "37/37 [==============================] - 1s 16ms/step - loss: 0.0094 - accuracy: 0.9978\n",
            "Epoch 61/100\n",
            "37/37 [==============================] - 1s 16ms/step - loss: 0.0046 - accuracy: 0.9987\n",
            "Epoch 62/100\n",
            "37/37 [==============================] - 1s 16ms/step - loss: 0.0067 - accuracy: 0.9978\n",
            "Epoch 63/100\n",
            "37/37 [==============================] - 1s 16ms/step - loss: 0.0019 - accuracy: 0.9987\n",
            "Epoch 64/100\n",
            "37/37 [==============================] - 1s 16ms/step - loss: 0.0027 - accuracy: 0.9991\n",
            "Epoch 65/100\n",
            "37/37 [==============================] - 1s 16ms/step - loss: 0.0027 - accuracy: 0.9991\n",
            "Epoch 66/100\n",
            "37/37 [==============================] - 1s 19ms/step - loss: 0.0010 - accuracy: 0.9991\n",
            "Epoch 67/100\n",
            "37/37 [==============================] - 1s 18ms/step - loss: 8.6285e-04 - accuracy: 0.9996\n",
            "Epoch 68/100\n",
            "37/37 [==============================] - 1s 18ms/step - loss: 8.6726e-04 - accuracy: 0.9996\n",
            "Epoch 69/100\n",
            "37/37 [==============================] - 1s 19ms/step - loss: 0.0014 - accuracy: 0.9991\n",
            "Epoch 70/100\n",
            "37/37 [==============================] - 1s 16ms/step - loss: 0.0010 - accuracy: 0.9996\n",
            "Epoch 71/100\n",
            "37/37 [==============================] - 1s 16ms/step - loss: 8.4439e-04 - accuracy: 0.9991\n",
            "Epoch 72/100\n",
            "37/37 [==============================] - 1s 16ms/step - loss: 7.7360e-04 - accuracy: 0.9991\n",
            "Epoch 73/100\n",
            "37/37 [==============================] - 1s 16ms/step - loss: 7.7866e-04 - accuracy: 0.9996\n",
            "Epoch 74/100\n",
            "37/37 [==============================] - 1s 16ms/step - loss: 4.5111e-04 - accuracy: 1.0000\n",
            "Epoch 75/100\n",
            "37/37 [==============================] - 1s 18ms/step - loss: 6.1516e-04 - accuracy: 0.9996\n",
            "Epoch 76/100\n",
            "37/37 [==============================] - 1s 18ms/step - loss: 6.8086e-04 - accuracy: 0.9991\n",
            "Epoch 77/100\n",
            "37/37 [==============================] - 1s 18ms/step - loss: 6.1645e-04 - accuracy: 0.9996\n",
            "Epoch 78/100\n",
            "37/37 [==============================] - 1s 18ms/step - loss: 6.7851e-04 - accuracy: 0.9996\n",
            "Epoch 79/100\n",
            "37/37 [==============================] - 1s 18ms/step - loss: 6.6191e-04 - accuracy: 0.9991\n",
            "Epoch 80/100\n",
            "37/37 [==============================] - 1s 16ms/step - loss: 6.4113e-04 - accuracy: 0.9991\n",
            "Epoch 81/100\n",
            "37/37 [==============================] - 1s 16ms/step - loss: 8.1817e-04 - accuracy: 0.9991\n",
            "Epoch 82/100\n",
            "37/37 [==============================] - 1s 16ms/step - loss: 6.8577e-04 - accuracy: 0.9991\n",
            "Epoch 83/100\n",
            "37/37 [==============================] - 1s 16ms/step - loss: 7.9186e-04 - accuracy: 0.9991\n",
            "Epoch 84/100\n",
            "37/37 [==============================] - 1s 16ms/step - loss: 5.6177e-04 - accuracy: 0.9996\n",
            "Epoch 85/100\n",
            "37/37 [==============================] - 1s 16ms/step - loss: 5.2756e-04 - accuracy: 0.9996\n",
            "Epoch 86/100\n",
            "37/37 [==============================] - 1s 16ms/step - loss: 7.2716e-04 - accuracy: 0.9996\n",
            "Epoch 87/100\n",
            "37/37 [==============================] - 1s 16ms/step - loss: 6.0259e-04 - accuracy: 0.9996\n",
            "Epoch 88/100\n",
            "37/37 [==============================] - 1s 16ms/step - loss: 6.2542e-04 - accuracy: 0.9996\n",
            "Epoch 89/100\n",
            "37/37 [==============================] - 1s 16ms/step - loss: 7.4716e-04 - accuracy: 0.9991\n",
            "Epoch 90/100\n",
            "37/37 [==============================] - 1s 16ms/step - loss: 5.7636e-04 - accuracy: 0.9996\n",
            "Epoch 91/100\n",
            "37/37 [==============================] - 1s 16ms/step - loss: 8.1440e-04 - accuracy: 0.9991\n",
            "Epoch 92/100\n",
            "37/37 [==============================] - 1s 16ms/step - loss: 6.9826e-04 - accuracy: 0.9991\n",
            "Epoch 93/100\n",
            "37/37 [==============================] - 1s 16ms/step - loss: 6.5277e-04 - accuracy: 0.9996\n",
            "Epoch 94/100\n",
            "37/37 [==============================] - 1s 16ms/step - loss: 6.2572e-04 - accuracy: 0.9996\n",
            "Epoch 95/100\n",
            "37/37 [==============================] - 1s 16ms/step - loss: 4.7264e-04 - accuracy: 1.0000\n",
            "Epoch 96/100\n",
            "37/37 [==============================] - 1s 17ms/step - loss: 7.9100e-04 - accuracy: 0.9991\n",
            "Epoch 97/100\n",
            "37/37 [==============================] - 1s 18ms/step - loss: 7.3064e-04 - accuracy: 0.9996\n",
            "Epoch 98/100\n",
            "37/37 [==============================] - 1s 18ms/step - loss: 6.8237e-04 - accuracy: 0.9996\n",
            "Epoch 99/100\n",
            "37/37 [==============================] - 1s 17ms/step - loss: 8.9802e-04 - accuracy: 0.9996\n",
            "Epoch 100/100\n",
            "37/37 [==============================] - 1s 17ms/step - loss: 8.0022e-04 - accuracy: 0.9996\n",
            "16/16 [==============================] - 1s 18ms/step - loss: 2.2856e-05 - accuracy: 1.0000\n",
            "do chinh xac 1.0\n",
            "ham mat mat 2.285639311594423e-05\n"
          ]
        }
      ]
    },
    {
      "cell_type": "code",
      "source": [
        "model.save('drive/MyDrive/face_detection.h5')"
      ],
      "metadata": {
        "id": "PFnRlsk7ttcS"
      },
      "execution_count": 12,
      "outputs": []
    },
    {
      "cell_type": "code",
      "source": [],
      "metadata": {
        "id": "D8rSJUdSB0xP"
      },
      "execution_count": null,
      "outputs": []
    }
  ]
}